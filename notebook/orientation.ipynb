{
 "cells": [
  {
   "cell_type": "markdown",
   "metadata": {
    "kernel": "SoS"
   },
   "source": [
    "# Bioinformatics workflow exercise: SoS and linear mixed model\n",
    "\n",
    "Author: Haoyue Shuai, Nov 17, 2020\n",
    "\n",
    "This tutorial introduces a workflow language, Script of Scripts (SoS), for bioinformatics analysis pipelines, with an example implementation of various linear mixed model methods for genetic association studies."
   ]
  },
  {
   "cell_type": "markdown",
   "metadata": {
    "kernel": "SoS"
   },
   "source": [
    "This is an SoS Notebook with SoS kernel cells containing workflow steps written in SoS, and bash kernel cells to run these workflow steps. Please run bash codes here directly in this notebook so the output will be saved to the notebook."
   ]
  },
  {
   "cell_type": "markdown",
   "metadata": {
    "kernel": "SoS"
   },
   "source": [
    "## Jupyter Lab setup"
   ]
  },
  {
   "cell_type": "markdown",
   "metadata": {
    "kernel": "SoS"
   },
   "source": [
    "Download this notebook and launch it with [JupyterLab](https://jupyter.org/). You can follow [these suggested setup instructions](http://statgen.us/lab-wiki/orientation/jupyter-setup.html)."
   ]
  },
  {
   "cell_type": "markdown",
   "metadata": {
    "kernel": "SoS"
   },
   "source": [
    "Please first making sure you have all the kernels needed. They should be available after all software are installed as instructed:"
   ]
  },
  {
   "cell_type": "code",
   "execution_count": 5,
   "metadata": {
    "kernel": "Bash",
    "tags": []
   },
   "outputs": [
    {
     "name": "stdout",
     "output_type": "stream",
     "text": [
      "Available kernels:\n",
      "  bash        /Users/supengyuan/Library/Jupyter/kernels/bash\n",
      "  ir          /Users/supengyuan/Library/Jupyter/kernels/ir\n",
      "  markdown    /Users/supengyuan/Library/Jupyter/kernels/markdown\n",
      "  sos         /Users/supengyuan/Library/Jupyter/kernels/sos\n",
      "  python3     /Users/supengyuan/opt/miniconda3/share/jupyter/kernels/python3\n"
     ]
    }
   ],
   "source": [
    "jupyter kernelspec list"
   ]
  },
  {
   "cell_type": "markdown",
   "metadata": {
    "kernel": "SoS"
   },
   "source": [
    "## Basics of SoS\n",
    "\n",
    "LMM is writen in SoS workflow, where we can use multiple programming languages within one notebook. Here we illustrate how it works with some simple examples."
   ]
  },
  {
   "cell_type": "markdown",
   "metadata": {
    "kernel": "SoS"
   },
   "source": [
    "### Parameter setting\n",
    "\n",
    "In the global chunk. We define 2 parameters, n and beta. They will be called in the later chunks."
   ]
  },
  {
   "cell_type": "code",
   "execution_count": 6,
   "metadata": {
    "kernel": "SoS"
   },
   "outputs": [],
   "source": [
    "[global]\n",
    "# parameter 1\n",
    "parameter: n = 1.0\n",
    "# parameter 2\n",
    "parameter: beta = [1.0,2.0,3.0]"
   ]
  },
  {
   "cell_type": "markdown",
   "metadata": {
    "kernel": "SoS"
   },
   "source": [
    "### Some Bash code\n",
    "\n",
    "We name this workflow `print_n`. In SoS, workflow steps are identified as text inside `[]`.\n",
    "\n",
    "We configure the string formatting for variable values as `${ }` so that SoS can complete the script replacing values inside `${ }` with specified values.\n",
    "\n",
    "Here we run a bash script to print the value of `n` specified as 1.0 in the `global` section."
   ]
  },
  {
   "cell_type": "code",
   "execution_count": 7,
   "metadata": {
    "kernel": "SoS"
   },
   "outputs": [],
   "source": [
    "# Print the value of n with bash\n",
    "[print_n]\n",
    "bash: expand = '${ }'\n",
    "    echo ${n}"
   ]
  },
  {
   "cell_type": "markdown",
   "metadata": {
    "kernel": "SoS"
   },
   "source": [
    "**To run the workflow above:**\n",
    "\n",
    "You could not run the chunk directly. It's pretty much like how you define a function in python or R, you can only run it by calling it:\n",
    "\n",
    "e.g. to run the workflow of `print_n` in this notebook:"
   ]
  },
  {
   "cell_type": "code",
   "execution_count": 8,
   "metadata": {
    "kernel": "Bash"
   },
   "outputs": [
    {
     "name": "stdout",
     "output_type": "stream",
     "text": [
      "INFO: Running \u001b[32mprint_n\u001b[0m: Print the value of n with bash\n",
      "1.0\n",
      "INFO: \u001b[32mprint_n\u001b[0m is \u001b[32mcompleted\u001b[0m.\n",
      "INFO: Workflow print_n (ID=w4bcbb8958466f710) is executed successfully with 1 completed step.\n"
     ]
    }
   ],
   "source": [
    "sos run orientation.ipynb print_n"
   ]
  },
  {
   "cell_type": "markdown",
   "metadata": {
    "kernel": "SoS"
   },
   "source": [
    "**We can also assign a new value to n:**"
   ]
  },
  {
   "cell_type": "code",
   "execution_count": 9,
   "metadata": {
    "kernel": "Bash"
   },
   "outputs": [
    {
     "name": "stdout",
     "output_type": "stream",
     "text": [
      "INFO: Running \u001b[32mprint_n\u001b[0m: Print the value of n with bash\n",
      "666.0\n",
      "INFO: \u001b[32mprint_n\u001b[0m is \u001b[32mcompleted\u001b[0m.\n",
      "INFO: Workflow print_n (ID=we094e7d433abb2ad) is executed successfully with 1 completed step.\n"
     ]
    }
   ],
   "source": [
    "sos run orientation.ipynb print_n --n 666"
   ]
  },
  {
   "cell_type": "markdown",
   "metadata": {
    "kernel": "SoS"
   },
   "source": [
    "### Some other Bash code\n",
    "\n",
    "Same as how we print `n`, here we run bash commands to print `beta`.\n"
   ]
  },
  {
   "cell_type": "code",
   "execution_count": 10,
   "metadata": {
    "kernel": "SoS"
   },
   "outputs": [],
   "source": [
    "# Print the value of beta with bash\n",
    "[print_beta]\n",
    "bash: expand = '${ }'\n",
    "    echo ${beta}"
   ]
  },
  {
   "cell_type": "markdown",
   "metadata": {
    "kernel": "SoS"
   },
   "source": [
    "**To run the workflow above:**"
   ]
  },
  {
   "cell_type": "code",
   "execution_count": 11,
   "metadata": {
    "kernel": "Bash"
   },
   "outputs": [
    {
     "name": "stdout",
     "output_type": "stream",
     "text": [
      "INFO: Running \u001b[32mprint_beta\u001b[0m: Print the value of beta with bash\n",
      "[1.0, 2.0, 3.0]\n",
      "INFO: \u001b[32mprint_beta\u001b[0m is \u001b[32mcompleted\u001b[0m.\n",
      "INFO: Workflow print_beta (ID=w78fa93e094c77376) is executed successfully with 1 completed step.\n"
     ]
    }
   ],
   "source": [
    "sos run orientation.ipynb print_beta"
   ]
  },
  {
   "cell_type": "markdown",
   "metadata": {
    "kernel": "SoS"
   },
   "source": [
    "### Some Python code\n",
    "\n",
    "Same as how we run bash, here we run python commands to print log `beta`.\n"
   ]
  },
  {
   "cell_type": "code",
   "execution_count": 12,
   "metadata": {
    "kernel": "SoS"
   },
   "outputs": [],
   "source": [
    "# Print log(beta) with Python\n",
    "[log_beta]\n",
    "python: expand = '${ }'\n",
    "    import numpy as np\n",
    "    print(np.log(${beta}))"
   ]
  },
  {
   "cell_type": "markdown",
   "metadata": {
    "kernel": "SoS"
   },
   "source": [
    "**To run the workflow above:**"
   ]
  },
  {
   "cell_type": "code",
   "execution_count": 13,
   "metadata": {
    "kernel": "Bash"
   },
   "outputs": [
    {
     "name": "stdout",
     "output_type": "stream",
     "text": [
      "INFO: Running \u001b[32mlog_beta\u001b[0m: Print log(beta) with Python\n",
      "[0.         0.69314718 1.09861229]\n",
      "INFO: \u001b[32mlog_beta\u001b[0m is \u001b[32mcompleted\u001b[0m.\n",
      "INFO: Workflow log_beta (ID=w077f5b194f70ad1b) is executed successfully with 1 completed step.\n"
     ]
    }
   ],
   "source": [
    "sos run orientation.ipynb log_beta"
   ]
  },
  {
   "cell_type": "markdown",
   "metadata": {
    "kernel": "SoS"
   },
   "source": [
    "### Some R code\n",
    "\n",
    "Now we run R commands to print exp of `n`.\n"
   ]
  },
  {
   "cell_type": "code",
   "execution_count": 14,
   "metadata": {
    "kernel": "SoS"
   },
   "outputs": [],
   "source": [
    "# Print exp(n) with R\n",
    "[exp_n]\n",
    "R: expand = '${ }'\n",
    "    print(exp(${n}))"
   ]
  },
  {
   "cell_type": "markdown",
   "metadata": {
    "kernel": "SoS"
   },
   "source": [
    "**To run the workflow above:**"
   ]
  },
  {
   "cell_type": "code",
   "execution_count": 15,
   "metadata": {
    "kernel": "Bash"
   },
   "outputs": [
    {
     "name": "stdout",
     "output_type": "stream",
     "text": [
      "INFO: Running \u001b[32mexp_n\u001b[0m: Print exp(n) with R\n",
      "[1] 2.718282\n",
      "INFO: \u001b[32mexp_n\u001b[0m is \u001b[32mcompleted\u001b[0m.\n",
      "INFO: Workflow exp_n (ID=w68dec66676a24f9f) is executed successfully with 1 completed step.\n"
     ]
    }
   ],
   "source": [
    "sos run orientation.ipynb exp_n"
   ]
  },
  {
   "cell_type": "markdown",
   "metadata": {
    "kernel": "SoS"
   },
   "source": [
    "## Command interface for SoS scripts\n",
    "\n",
    "To show what workflows are available in this notebook:"
   ]
  },
  {
   "cell_type": "code",
   "execution_count": 16,
   "metadata": {
    "kernel": "Bash"
   },
   "outputs": [
    {
     "name": "stdout",
     "output_type": "stream",
     "text": [
      "usage: sos run orientation.ipynb [workflow_name | -t targets] [options] [workflow_options]\n",
      "  workflow_name:        Single or combined workflows defined in this script\n",
      "  targets:              One or more targets to generate\n",
      "  options:              Single-hyphen sos parameters (see \"sos run -h\" for details)\n",
      "  workflow_options:     Double-hyphen workflow-specific parameters\n",
      "\n",
      "Workflows:\n",
      "  print_n\n",
      "  print_beta\n",
      "  log_beta\n",
      "  exp_n\n",
      "\n",
      "Global Workflow Options:\n",
      "  --n 1.0 (as float)\n",
      "                        parameter 1\n",
      "  --beta 1.0 2.0 3.0 (as list)\n",
      "                        parameter 2\n",
      "\n",
      "Sections\n",
      "  print_n:              Print the value of n with bash\n",
      "  print_beta:           Print the value of beta with bash\n",
      "  log_beta:             Print log(beta) with Python\n",
      "  exp_n:                Print exp(n) with R\n"
     ]
    }
   ],
   "source": [
    "sos run orientation.ipynb -h"
   ]
  },
  {
   "cell_type": "markdown",
   "metadata": {
    "kernel": "SoS"
   },
   "source": [
    "**As we have workflows print_n, print_beta, log_beta, exp_n here, we have workflows fastGWA, boltlmm, regenie, etc in the LMM (linear mixed model pipeline)** available in `LMM.ipynb`under `workflow` folder of this repository:\n"
   ]
  },
  {
   "cell_type": "code",
   "execution_count": 2,
   "metadata": {
    "kernel": "Bash"
   },
   "outputs": [
    {
     "name": "stdout",
     "output_type": "stream",
     "text": [
      "usage: sos run /Users/supengyuan/Documents/GitHub/orientation/workflow/LMM.ipynb\n",
      "               [workflow_name | -t targets] [options] [workflow_options]\n",
      "  workflow_name:        Single or combined workflows defined in this script\n",
      "  targets:              One or more targets to generate\n",
      "  options:              Single-hyphen sos parameters (see \"sos run -h\" for details)\n",
      "  workflow_options:     Double-hyphen workflow-specific parameters\n",
      "\n",
      "Workflows:\n",
      "  boltlmm\n",
      "  gcta\n",
      "  fastGWA\n",
      "  regenie\n",
      "  SAIGE\n",
      "\n",
      "Global Workflow Options:\n",
      "  --cwd VAL (as path, required)\n",
      "                        the output directory for generated files\n",
      "  --sampleFile VAL (as path, required)\n",
      "                        Path to sample file\n",
      "  --bfile VAL (as path, required)\n",
      "                        Genotype files in plink binary this is used for\n",
      "                        computing the GRM\n",
      "  --genoFile  paths\n",
      "\n",
      "                        Path to bgen or bed files\n",
      "  --phenoFile VAL (as path, required)\n",
      "                        Phenotype file for quantitative trait (BMI)\n",
      "  --phenoCol VAL VAL ... (as type, required)\n",
      "                        Phenotype to be analyzed (specify the column)\n",
      "  --covarFile . (as path)\n",
      "                        Covariate file path. Will use phenoFile if empty\n",
      "  --formatFile . (as path)\n",
      "                        Summary statisticss format file path used for unifying\n",
      "                        output column names. Will not unify names if empty\n",
      "  --covarCol  (as list)\n",
      "                        Qualitative covariates to be used in the analysis\n",
      "  --qCovarCol  (as list)\n",
      "                        Quantitative covariates to be used in the analysis\n",
      "  --numThreads 2 (as int)\n",
      "                        Specific number of threads to use\n",
      "  --bgenMinMAF 0.001 (as float)\n",
      "                        Minimum MAF to be used\n",
      "  --bgenMinINFO 0.8 (as float)\n",
      "                        Mimimum info score to be used\n",
      "  --job-size 1 (as int)\n",
      "                        For cluster jobs, number commands to run per job\n",
      "  --container-lmm 'statisticalgenetics/lmm:1.6'\n",
      "                        The container with the lmm software. Can be either a\n",
      "                        dockerhub image or a singularity `sif` file. Default is\n",
      "                        set to using dockerhub image\n",
      "  --container-marp 'gaow/marp'\n",
      "\n",
      "Sections\n",
      "  boltlmm_1:            Run BOLT analysis\n",
      "    Workflow Options:\n",
      "      --covarMaxLevels VAL (as int, required)\n",
      "                        Maximum categories of covariates allowed\n",
      "      --LDscoresFile VAL (as path, required)\n",
      "                        Path to LDscore file for reference population\n",
      "      --geneticMapFile VAL (as path, required)\n",
      "                        Path to genetic map file used to interpolate genetic map\n",
      "                        coordinates from SNP physical (base pair) positions\n",
      "      --lmm-option lmm\n",
      "                        LMM option: lmm, lmmInfOnly, and lmmForceNonInf\n",
      "  gcta_1:               Partition the GRM into 100 parts and allocate 8GB memory\n",
      "                        to each job\n",
      "    Workflow Options:\n",
      "      --parts 100 (as int)\n",
      "                        Number of parts the GRM calculation is to be partitioned\n",
      "  gcta_2:               Merge all the parts together (Linux, Mac)\n",
      "  gcta_3:               Make a sparse GRM from the merged full-dense GRM\n",
      "  fastGWA_1:            fastGWA mixed model (based on the sparse GRM generated\n",
      "                        above)\n",
      "    Workflow Options:\n",
      "      --grmFile  path(f'{cwd}/{bfile:bn}.grm.sp')\n",
      "\n",
      "  regenie_0:            Select the SNPs and samples to be used based on maf,\n",
      "                        geno, hwe and mind options\n",
      "    Workflow Options:\n",
      "      --maf-filter 0.0 (as float)\n",
      "      --geno-filter 0.0 (as float)\n",
      "      --hwe-filter 0.0 (as float)\n",
      "      --mind-filter 0.0 (as float)\n",
      "  regenie_1:            Run REGENIE step 1: fitting the null\n",
      "    Workflow Options:\n",
      "      --bsize 400 (as int)\n",
      "                        Size of the genotype blocks to be used\n",
      "      --lowmem-prefix  cwd\n",
      "\n",
      "                        Path to temporarily store block predictions\n",
      "      --trait bt\n",
      "                        Specify that traits are binary with\n",
      "                        0=control,1=case,NA=missing (default is quantitative)\n",
      "  regenie_2:            Run REGENIE step 2: association analysis\n",
      "    Workflow Options:\n",
      "      --bsize 400 (as int)\n",
      "                        Size of the genotype blocks to be used\n",
      "      --minMAC VAL (as int, required)\n",
      "                        Mimimum allele count to be used\n",
      "      --trait bt\n",
      "  SAIGE_1:              Fit SAIGE null model\n",
      "    Workflow Options:\n",
      "      --trait-type VAL (as str, required)\n",
      "                        trait type, eg 'binary' or 'quantitative'\n",
      "      --loco TRUE\n",
      "                        Whether to use LOCO or not\n",
      "      --sampleCol IID\n",
      "                        Name of the sample column\n",
      "      --script-path /Users/supengyuan/software/bin/step1_fitNULLGLMM.R (as path)\n",
      "                        Path specific to SAIGE script\n",
      "      --invNormalize FALSE\n",
      "                        Inverse normalization only for non-normal quantitative\n",
      "                        traits\n",
      "  SAIGE_2:              Compute SAIGE statistics\n",
      "    Workflow Options:\n",
      "      --bgenMinMAC 4 (as int)\n",
      "                        Mimimum allele count to be used\n",
      "      --af-caco TRUE\n",
      "                        Specify whether to output allele frequencies in cases\n",
      "                        and controls\n",
      "      --script-path /Users/supengyuan/software/bin/step2_SPAtests.R (as path)\n",
      "                        Path specific to SAIGE script\n",
      "  boltlmm_2, fastGWA_2, SAIGE_3, regenie_3: Merge results and log files\n",
      "    Workflow Options:\n",
      "      --[no-]reverse-log-p (default to False)\n",
      "  boltlmm_3, fastGWA_3, SAIGE_4, regenie_4: Manhattan and QQ plots using `qqman`\n",
      "    Workflow Options:\n",
      "      --bp POS\n",
      "                        Column name for BP\n",
      "      --pval P\n",
      "                        Column name for p-value\n",
      "      --snp SNP\n",
      "                        Column name for SNP\n",
      "      --p-filter '0.05'\n",
      "                        Plot only on p-values smaller than this\n",
      "      --ylim 0 (as int)\n",
      "                        ylim set to 0 to use maximum -log10(p) in data\n",
      "  boltlmm_4, fastGWA_4, SAIGE_5, regenie_5: Generate analysis report: HTML file,\n",
      "                        and optionally PPTX file\n"
     ]
    }
   ],
   "source": [
    "sos run ~/Documents/GitHub/orientation/workflow/LMM.ipynb -h"
   ]
  },
  {
   "cell_type": "markdown",
   "metadata": {
    "kernel": "SoS"
   },
   "source": [
    "**Please open up LMM.ipynb with JupyterLab and take a look at the document.** You will see several pipelines written in SoS language for R, Python and Shell scripts. We will execute these pipelines next."
   ]
  },
  {
   "cell_type": "markdown",
   "metadata": {
    "kernel": "SoS"
   },
   "source": [
    "## Run LMM\n",
    "\n",
    "Here is a minimal working example (MWE) to illustrate the LMM pipelines:"
   ]
  },
  {
   "cell_type": "code",
   "execution_count": 2,
   "metadata": {
    "kernel": "Bash"
   },
   "outputs": [
    {
     "name": "stdout",
     "output_type": "stream",
     "text": [
      "\u001b[31mLDSCORE.1000G_EUR.tab.gz\u001b[m\u001b[m         imputed_genotypes.sample\n",
      "boltlmm_template.yml             imputed_genotypes_chr21.bgen\n",
      "fastGWA_template.yml             imputed_genotypes_chr21.bgen.bgi\n",
      "\u001b[31mgenetic_map_hg19_withX.txt.gz\u001b[m\u001b[m    imputed_genotypes_chr22.bgen\n",
      "genotype_inventory.txt           imputed_genotypes_chr22.bgen.bgi\n",
      "genotypes.bed                    \u001b[34moutput\u001b[m\u001b[m\n",
      "genotypes.bim                    phenotypes.txt\n",
      "genotypes.fam                    regenie_template.yml\n",
      "genotypes21_22.bed               regions.txt\n",
      "genotypes21_22.bim               unrelated_samples.txt\n",
      "genotypes21_22.fam\n"
     ]
    }
   ],
   "source": [
    "cd /Users/supengyuan/Documents/GitHub/orientation/data/LMM_MWE\n",
    "ls"
   ]
  },
  {
   "cell_type": "markdown",
   "metadata": {
    "kernel": "SoS"
   },
   "source": [
    "Now we will call the `fastGWA` workflow defined in the `LMM.ipynb` by running this command:"
   ]
  },
  {
   "cell_type": "code",
   "execution_count": 10,
   "metadata": {
    "kernel": "Bash"
   },
   "outputs": [
    {
     "name": "stdout",
     "output_type": "stream",
     "text": [
      "INFO: Running \u001b[32mfastGWA_1\u001b[0m: fastGWA mixed model (based on the sparse GRM generated above)\n",
      "HINT: Pulling docker image statisticalgenetics/lmm:1.6\n",
      "HINT: Docker image statisticalgenetics/lmm:1.6 is now up to date\n",
      "INFO: \u001b[32mfastGWA_1\u001b[0m (index=1) is \u001b[32mcompleted\u001b[0m.\n",
      "INFO: \u001b[32mfastGWA_1\u001b[0m (index=0) is \u001b[32mcompleted\u001b[0m.\n",
      "INFO: \u001b[32mfastGWA_1\u001b[0m output:   \u001b[32m/Users/supengyuan/Documents/GitHub/orientation/data/LMM_MWE/output/cache/imputed_genotypes_chr21.phenotypes.fastGWA.gz /Users/supengyuan/Documents/GitHub/orientation/data/LMM_MWE/output/cache/imputed_genotypes_chr22.phenotypes.fastGWA.gz in 2 groups\u001b[0m\n",
      "INFO: Running \u001b[32mfastGWA_2\u001b[0m: Merge results and log files\n",
      "INFO: \u001b[32mfastGWA_2\u001b[0m is \u001b[32mcompleted\u001b[0m.\n",
      "INFO: \u001b[32mfastGWA_2\u001b[0m output:   \u001b[32m/Users/supengyuan/Documents/GitHub/orientation/data/LMM_MWE/output/phenotypes_BMI.fastGWA.snp_stats.gz /Users/supengyuan/Documents/GitHub/orientation/data/LMM_MWE/output/phenotypes_BMI.fastGWA.snp_counts.txt\u001b[0m\n",
      "INFO: Running \u001b[32mfastGWA_3\u001b[0m: Manhattan and QQ plots using `qqman`\n",
      "INFO: \u001b[32mfastGWA_3\u001b[0m is \u001b[32mcompleted\u001b[0m.\n",
      "INFO: \u001b[32mfastGWA_3\u001b[0m output:   \u001b[32m/Users/supengyuan/Documents/GitHub/orientation/data/LMM_MWE/output/phenotypes_BMI.fastGWA.manhattan.png /Users/supengyuan/Documents/GitHub/orientation/data/LMM_MWE/output/phenotypes_BMI.fastGWA.qq.png... (5 items)\u001b[0m\n",
      "INFO: Running \u001b[32mfastGWA_4\u001b[0m: Generate analysis report: HTML file, and optionally PPTX file\n",
      "HINT: Pulling docker image gaow/marp\n",
      "HINT: Docker image gaow/marp is now up to date\n",
      "INFO: \u001b[32mfastGWA_4\u001b[0m is \u001b[32mcompleted\u001b[0m.\n",
      "INFO: \u001b[32mfastGWA_4\u001b[0m output:   \u001b[32m/Users/supengyuan/Documents/GitHub/orientation/data/LMM_MWE/output/phenotypes_BMI.fastGWA.analysis_summary.html\u001b[0m\n",
      "INFO: Workflow fastGWA (ID=wd7f2383bdb5c1ec0) is executed successfully with 4 completed steps and 5 completed substeps.\n"
     ]
    }
   ],
   "source": [
    "sos run ~/Documents/GitHub/orientation/workflow/LMM.ipynb fastGWA \\\n",
    "    --cwd ~/Documents/GitHub/orientation/data/LMM_MWE/output \\\n",
    "    --bfile ~/Documents/GitHub/orientation/data/LMM_MWE/genotypes.bed \\\n",
    "    --sampleFile ~/Documents/GitHub/orientation/data/LMM_MWE/imputed_genotypes.sample \\\n",
    "    --genoFile ~/Documents/GitHub/orientation/data/LMM_MWE/imputed_genotypes_chr*.bgen \\\n",
    "    --phenoFile ~/Documents/GitHub/orientation/data/LMM_MWE/phenotypes.txt \\\n",
    "    --formatFile ~/Documents/GitHub/orientation/data/LMM_MWE/fastGWA_template.yml \\\n",
    "    --phenoCol BMI \\\n",
    "    --covarCol SEX \\\n",
    "    --qCovarCol AGE \\\n",
    "    --numThreads 1 \\\n",
    "    --bgenMinMAF 0.001 \\\n",
    "    --bgenMinINFO 0.1 \\\n",
    "    --parts 2 \\\n",
    "    --p-filter 1"
   ]
  },
  {
   "cell_type": "markdown",
   "metadata": {
    "kernel": "SoS"
   },
   "source": [
    "**Once it finished succesfully, you should be able to find the result files in the output folder. Lets take a look at the manhataan plot.**"
   ]
  },
  {
   "cell_type": "code",
   "execution_count": 4,
   "metadata": {
    "kernel": "SoS"
   },
   "outputs": [
    {
     "data": {
      "text/html": [
       "<div class=\"sos_hint\">> /Users/supengyuan/Documents/GitHub/orientation/data/LMM_MWE/output/phenotypes_BMI.fastGWA.manhattan.png (51.4 KiB):</div>"
      ],
      "text/plain": [
       "\n",
       "> /Users/supengyuan/Documents/GitHub/orientation/data/LMM_MWE/output/phenotypes_BMI.fastGWA.manhattan.png (51.4 KiB):"
      ]
     },
     "metadata": {},
     "output_type": "display_data"
    },
    {
     "data": {
      "image/png": "[encoded data removed]"
     },
     "metadata": {
      "image/png": {}
     },
     "output_type": "display_data"
    }
   ],
   "source": [
    "%preview /Users/supengyuan/Documents/GitHub/orientation/data/LMM_MWE/output/phenotypes_BMI.fastGWA.manhattan.png"
   ]
  },
  {
   "cell_type": "markdown",
   "metadata": {
    "kernel": "SoS"
   },
   "source": [
    "## Quiz\n",
    "\n",
    "Please try to run BoltLMM and Regenie pipelines on your own as instructed in `LMM.ipynb`, show the results (command output and figures as in the `fastGWA` example) in this notebook below, save it for now but **do not** push it back to your forked repo on github. You will find instructions in Task 4 how to communicate the analysis back to us.\n",
    "\n",
    "The Regenie pipeline should run without an error, **but you will run into issues with BoltLMM**. The screen output for this error message is not immediately informative but it contains some information for you to locate what exactly the problem is. This is a very typical scenario in our daily research. Please try to identify where the bug is, and point it out in discussions below (you don't have to fix it although you are welcome to try and show us how far you can make it!)."
   ]
  },
  {
   "cell_type": "markdown",
   "metadata": {
    "kernel": "SoS"
   },
   "source": [
    "## 1. Boltlmm"
   ]
  },
  {
   "cell_type": "code",
   "execution_count": 8,
   "metadata": {
    "kernel": "Bash",
    "tags": []
   },
   "outputs": [
    {
     "name": "stdout",
     "output_type": "stream",
     "text": [
      "\u001b[31mLDSCORE.1000G_EUR.tab.gz\u001b[m\u001b[m         imputed_genotypes.sample\n",
      "boltlmm_template.yml             imputed_genotypes_chr21.bgen\n",
      "fastGWA_template.yml             imputed_genotypes_chr21.bgen.bgi\n",
      "\u001b[31mgenetic_map_hg19_withX.txt.gz\u001b[m\u001b[m    imputed_genotypes_chr22.bgen\n",
      "genotype_inventory.txt           imputed_genotypes_chr22.bgen.bgi\n",
      "genotypes.bed                    \u001b[34moutput\u001b[m\u001b[m\n",
      "genotypes.bim                    phenotypes.txt\n",
      "genotypes.fam                    regenie_template.yml\n",
      "genotypes21_22.bed               regions.txt\n",
      "genotypes21_22.bim               unrelated_samples.txt\n",
      "genotypes21_22.fam\n"
     ]
    }
   ],
   "source": [
    "cd /Users/supengyuan/Documents/lab_tasks/LMM_MWE\n",
    "ls"
   ]
  },
  {
   "cell_type": "code",
   "execution_count": 17,
   "metadata": {
    "kernel": "Bash",
    "tags": []
   },
   "outputs": [
    {
     "name": "stdout",
     "output_type": "stream",
     "text": [
      "INFO: Running \u001b[32mboltlmm_1\u001b[0m: Run BOLT analysis\n",
      "HINT: Pulling docker image statisticalgenetics/lmm:1.6\n",
      "HINT: Docker image statisticalgenetics/lmm:1.6 is now up to date\n",
      "\u001b[91mERROR\u001b[0m: \u001b[91m[boltlmm_1]: [(id=e5c6a29b4b5bd836, index=1)]: Executing script in docker returns an error (exitcode=1, stdout=/Users/supengyuan/Documents/lab_tasks/boltlmm/output/cache/imputed_genotypes_chr22.phenotypes_BMI.boltlmm.snp_stats.stdout).\n",
      "The script has been saved to /Users/supengyuan/.sos/2cb53480da86f101/docker_run_3385.sh. To reproduce the error please run:\n",
      "\u001b[0m\u001b[32mdocker run --rm  -v /Users/supengyuan/Documents/lab_tasks/boltlmm/output/cache:/Users/supengyuan/Documents/lab_tasks/boltlmm/output/cache -v /Users/supengyuan/Documents/lab_tasks/LMM_MWE:/Users/supengyuan/Documents/lab_tasks/LMM_MWE -v /Users/supengyuan/.sos/2cb53480da86f101/docker_run_3385.sh:/var/lib/sos/docker_run_3385.sh    -t  -w=/Users/supengyuan/Documents/lab_tasks/LMM_MWE -u 501:20    statisticalgenetics/lmm:1.6 /bin/bash /var/lib/sos/docker_run_3385.sh\u001b[0m\u001b[91m\n",
      "[(id=e5c6a29b4b5bd836, index=0)]: Executing script in docker returns an error (exitcode=1, stdout=/Users/supengyuan/Documents/lab_tasks/boltlmm/output/cache/imputed_genotypes_chr21.phenotypes_BMI.boltlmm.snp_stats.stdout).\n",
      "The script has been saved to /Users/supengyuan/.sos/2cb53480da86f101/docker_run_3386.sh. To reproduce the error please run:\n",
      "\u001b[0m\u001b[32mdocker run --rm  -v /Users/supengyuan/Documents/lab_tasks/LMM_MWE:/Users/supengyuan/Documents/lab_tasks/LMM_MWE -v /Users/supengyuan/Documents/lab_tasks/boltlmm/output/cache:/Users/supengyuan/Documents/lab_tasks/boltlmm/output/cache -v /Users/supengyuan/.sos/2cb53480da86f101/docker_run_3386.sh:/var/lib/sos/docker_run_3386.sh    -t  -w=/Users/supengyuan/Documents/lab_tasks/LMM_MWE -u 501:20    statisticalgenetics/lmm:1.6 /bin/bash /var/lib/sos/docker_run_3386.sh\u001b[0m\u001b[91m\n",
      "[boltlmm]: Exits with 3 pending steps (boltlmm_2, boltlmm_3, boltlmm_4)\u001b[0m\n"
     ]
    },
    {
     "ename": "",
     "evalue": "1",
     "output_type": "error",
     "traceback": []
    }
   ],
   "source": [
    "sos run ~/Documents/lab_tasks/LMM.ipynb boltlmm \\\n",
    "    --cwd ~/Documents/lab_tasks/LMM_MWE/output \\\n",
    "    --bfile ~/Documents/lab_tasks/LMM_MWE/genotypes.bed \\\n",
    "    --sampleFile ~/Documents/lab_tasks/LMM_MWE/imputed_genotypes.sample \\\n",
    "    --genoFile ~/Documents/lab_tasks/LMM_MWE/imputed_genotypes_chr*.bgen \\\n",
    "    --phenoFile ~/Documents/lab_tasks/LMM_MWE/phenotypes.txt \\\n",
    "    --formatFile ~/Documents/lab_tasks/LMM_MWE/boltlmm_template.yml \\\n",
    "    --LDscoresFile ~/Documents/lab_tasks/LMM_MWE/LDSCORE.1000G_EUR.tab.gz \\\n",
    "    --geneticMapFile ~/Documents/lab_tasks/LMM_MWE/genetic_map_hg19_withX.txt.gz \\\n",
    "    --phenoCol BMI \\\n",
    "    --covarCol SEX \\\n",
    "    --covarMaxLevels 10 \\\n",
    "    --qCovarCol AGE \\\n",
    "    --numThreads 5 \\\n",
    "    --bgenMinMAF 0.001 \\\n",
    "    --bgenMinINFO 0.1 \\\n",
    "    --lmm-option \\\n",
    "    --p-filter 1\n",
    "   "
   ]
  },
  {
   "cell_type": "markdown",
   "metadata": {
    "kernel": "Bash"
   },
   "source": [
    "## 2. Regenie"
   ]
  },
  {
   "cell_type": "code",
   "execution_count": 16,
   "metadata": {
    "kernel": "Bash"
   },
   "outputs": [
    {
     "name": "stdout",
     "output_type": "stream",
     "text": [
      "\u001b[31mLDSCORE.1000G_EUR.tab.gz\u001b[m\u001b[m         imputed_genotypes.sample\n",
      "boltlmm_template.yml             imputed_genotypes_chr21.bgen\n",
      "fastGWA_template.yml             imputed_genotypes_chr21.bgen.bgi\n",
      "\u001b[31mgenetic_map_hg19_withX.txt.gz\u001b[m\u001b[m    imputed_genotypes_chr22.bgen\n",
      "genotype_inventory.txt           imputed_genotypes_chr22.bgen.bgi\n",
      "genotypes.bed                    \u001b[34moutput\u001b[m\u001b[m\n",
      "genotypes.bim                    phenotypes.txt\n",
      "genotypes.fam                    regenie_template.yml\n",
      "genotypes21_22.bed               regions.txt\n",
      "genotypes21_22.bim               unrelated_samples.txt\n",
      "genotypes21_22.fam\n"
     ]
    }
   ],
   "source": [
    "cd /Users/supengyuan/Documents/lab_tasks/LMM_MWE\n",
    "ls"
   ]
  },
  {
   "cell_type": "code",
   "execution_count": 18,
   "metadata": {
    "kernel": "Bash"
   },
   "outputs": [
    {
     "name": "stdout",
     "output_type": "stream",
     "text": [
      "INFO: Running \u001b[32mregenie_0\u001b[0m: Select the SNPs and samples to be used based on maf, geno, hwe and mind options\n",
      "HINT: Pulling docker image statisticalgenetics/lmm:1.6\n",
      "HINT: Docker image statisticalgenetics/lmm:1.6 is now up to date\n",
      "INFO: \u001b[32mregenie_0\u001b[0m is \u001b[32mcompleted\u001b[0m.\n",
      "INFO: \u001b[32mregenie_0\u001b[0m output:   \u001b[32m/Users/supengyuan/Documents/lab_tasks/LMM_MWE/output/cache/genotypes21_22.qc_pass.id /Users/supengyuan/Documents/lab_tasks/LMM_MWE/output/cache/genotypes21_22.qc_pass.snplist\u001b[0m\n",
      "INFO: Running \u001b[32mregenie_1\u001b[0m: Run REGENIE step 1: fitting the null\n",
      "INFO: \u001b[32mregenie_1\u001b[0m is \u001b[32mcompleted\u001b[0m.\n",
      "INFO: \u001b[32mregenie_1\u001b[0m output:   \u001b[32m/Users/supengyuan/Documents/lab_tasks/LMM_MWE/output/phenotypes_ASTHMA_T2D.regenie_pred.list\u001b[0m\n",
      "INFO: Running \u001b[32mregenie_2\u001b[0m: Run REGENIE step 2: association analysis\n",
      "INFO: \u001b[32mregenie_2\u001b[0m (index=1) is \u001b[32mcompleted\u001b[0m.\n",
      "INFO: \u001b[32mregenie_2\u001b[0m (index=0) is \u001b[32mcompleted\u001b[0m.\n",
      "INFO: \u001b[32mregenie_2\u001b[0m output:   \u001b[32m/Users/supengyuan/Documents/lab_tasks/LMM_MWE/output/cache/imputed_genotypes_chr21_ASTHMA.regenie.gz /Users/supengyuan/Documents/lab_tasks/LMM_MWE/output/cache/imputed_genotypes_chr21_T2D.regenie.gz... (4 items in 2 groups)\u001b[0m\n",
      "INFO: Running \u001b[32mregenie_3\u001b[0m: Merge results and log files\n",
      "INFO: \u001b[32mregenie_3\u001b[0m (index=1) is \u001b[32mcompleted\u001b[0m.\n",
      "INFO: \u001b[32mregenie_3\u001b[0m (index=0) is \u001b[32mcompleted\u001b[0m.\n",
      "INFO: \u001b[32mregenie_3\u001b[0m output:   \u001b[32m/Users/supengyuan/Documents/lab_tasks/LMM_MWE/output/phenotypes_ASTHMA.regenie.snp_stats.gz /Users/supengyuan/Documents/lab_tasks/LMM_MWE/output/phenotypes_ASTHMA.regenie.snp_counts.txt... (4 items in 2 groups)\u001b[0m\n",
      "INFO: Running \u001b[32mregenie_4\u001b[0m: Manhattan and QQ plots using `qqman`\n",
      "INFO: \u001b[32mregenie_4\u001b[0m (index=0) is \u001b[32mcompleted\u001b[0m.\n",
      "INFO: \u001b[32mregenie_4\u001b[0m (index=1) is \u001b[32mcompleted\u001b[0m.\n",
      "INFO: \u001b[32mregenie_4\u001b[0m output:   \u001b[32m/Users/supengyuan/Documents/lab_tasks/LMM_MWE/output/phenotypes_ASTHMA.regenie.manhattan.png /Users/supengyuan/Documents/lab_tasks/LMM_MWE/output/phenotypes_ASTHMA.regenie.qq.png... (10 items in 2 groups)\u001b[0m\n",
      "INFO: Running \u001b[32mregenie_5\u001b[0m: Generate analysis report: HTML file, and optionally PPTX file\n",
      "HINT: Pulling docker image gaow/marp\n",
      "HINT: Docker image gaow/marp is now up to date\n",
      "INFO: \u001b[32mregenie_5\u001b[0m (index=0) is \u001b[32mcompleted\u001b[0m.\n",
      "INFO: \u001b[32mregenie_5\u001b[0m (index=1) is \u001b[32mcompleted\u001b[0m.\n",
      "INFO: \u001b[32mregenie_5\u001b[0m output:   \u001b[32m/Users/supengyuan/Documents/lab_tasks/LMM_MWE/output/phenotypes_ASTHMA.regenie.analysis_summary.html /Users/supengyuan/Documents/lab_tasks/LMM_MWE/output/phenotypes_T2D.regenie.analysis_summary.html in 2 groups\u001b[0m\n",
      "INFO: Workflow regenie (ID=wb98a34e8b61c3f1a) is executed successfully with 6 completed steps and 10 completed substeps.\n"
     ]
    }
   ],
   "source": [
    "sos run ~/Documents/lab_tasks/LMM.ipynb regenie \\\n",
    "    --cwd ~/Documents/lab_tasks/LMM_MWE/output \\\n",
    "    --bfile ~/Documents/lab_tasks/LMM_MWE/genotypes21_22.bed \\\n",
    "    --maf-filter 0.001 \\\n",
    "    --sampleFile ~/Documents/lab_tasks/LMM_MWE/imputed_genotypes.sample \\\n",
    "    --genoFile ~/Documents/lab_tasks/LMM_MWE/imputed_genotypes_chr*.bgen \\\n",
    "    --phenoFile ~/Documents/lab_tasks/LMM_MWE/phenotypes.txt \\\n",
    "    --formatFile ~/Documents/lab_tasks/LMM_MWE/regenie_template.yml \\\n",
    "    --phenoCol ASTHMA T2D\\\n",
    "    --covarCol SEX \\\n",
    "    --qCovarCol AGE \\\n",
    "    --numThreads 8 \\\n",
    "    --bsize 1000 \\\n",
    "    --lowmem_prefix output \\\n",
    "    --trait bt \\\n",
    "    --minMAC 4 \\\n",
    "    --bgenMinMAF 0.05 \\\n",
    "    --bgenMinINFO 0.8 \\\n",
    "    --reverse_log_p \\\n",
    "    --p-filter 1 "
   ]
  },
  {
   "cell_type": "code",
   "execution_count": 19,
   "metadata": {
    "kernel": "Bash"
   },
   "outputs": [
    {
     "data": {
      "text/html": [
       "<div class=\"sos_hint\">> /Users/supengyuan/Documents/lab_tasks/LMM_MWE/output/phenotypes_ASTHMA.regenie.qq.png (73.5 KiB):</div>"
      ],
      "text/plain": [
       "\n",
       "> /Users/supengyuan/Documents/lab_tasks/LMM_MWE/output/phenotypes_ASTHMA.regenie.qq.png (73.5 KiB):"
      ]
     },
     "metadata": {},
     "output_type": "display_data"
    },
    {
     "data": {
      "image/png": "[encoded data removed]"
     },
     "metadata": {
      "image/png": {}
     },
     "output_type": "display_data"
    },
    {
     "data": {
      "text/html": [
       "<div class=\"sos_hint\">> /Users/supengyuan/Documents/lab_tasks/LMM_MWE/output/phenotypes_ASTHMA.regenie.qq.png:</div>"
      ],
      "text/plain": [
       ">>> /Users/supengyuan/Documents/lab_tasks/LMM_MWE/output/phenotypes_ASTHMA.regenie.qq.png:\n"
      ]
     },
     "metadata": {},
     "output_type": "display_data"
    },
    {
     "name": "stdout",
     "output_type": "stream",
     "text": [
      "bash: /Users/supengyuan/Documents/lab_tasks/LMM_MWE/output/phenotypes_ASTHMA.regenie.qq.png: Permission denied\n"
     ]
    }
   ],
   "source": [
    "%preview /Users/supengyuan/Documents/lab_tasks/LMM_MWE/output/phenotypes_ASTHMA.regenie.qq.png"
   ]
  },
  {
   "cell_type": "code",
   "execution_count": null,
   "metadata": {
    "kernel": "Bash"
   },
   "outputs": [],
   "source": []
  }
 ],
 "metadata": {
  "kernelspec": {
   "display_name": "SoS",
   "language": "sos",
   "name": "sos"
  },
  "language_info": {
   "codemirror_mode": "sos",
   "file_extension": ".sos",
   "mimetype": "text/x-sos",
   "name": "sos",
   "nbconvert_exporter": "sos_notebook.converter.SoS_Exporter",
   "pygments_lexer": "sos"
  },
  "sos": {
   "default_kernel": "SoS",
   "kernels": [
    [
     "Bash",
     "bash",
     "Bash",
     "#E6EEFF",
     "shell"
    ],
    [
     "Markdown",
     "markdown",
     "markdown",
     "",
     ""
    ],
    [
     "SoS",
     "sos",
     "",
     "",
     "sos"
    ]
   ],
   "panel": {
    "displayed": true,
    "height": 0,
    "style": "side"
   },
   "version": "0.22.6"
  }
 },
 "nbformat": 4,
 "nbformat_minor": 4
}
